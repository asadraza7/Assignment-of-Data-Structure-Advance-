{
 "cells": [
  {
   "cell_type": "markdown",
   "metadata": {
    "id": "lj0GyaYd9_br"
   },
   "source": [
    "(Q)1)Write a code to reverse a string"
   ]
  },
  {
   "cell_type": "code",
   "execution_count": null,
   "metadata": {
    "colab": {
     "base_uri": "https://localhost:8080/",
     "height": 35
    },
    "executionInfo": {
     "elapsed": 19,
     "status": "ok",
     "timestamp": 1722138675085,
     "user": {
      "displayName": "Asad Raza",
      "userId": "18380366987480511932"
     },
     "user_tz": -330
    },
    "id": "zKsY0CPu9xjd",
    "outputId": "7c2f6831-3e77-4f37-d0c8-edf90cf6cd42"
   },
   "outputs": [
    {
     "data": {
      "application/vnd.google.colaboratory.intrinsic+json": {
       "type": "string"
      },
      "text/plain": [
       "'sllikswP'"
      ]
     },
     "execution_count": 1,
     "metadata": {},
     "output_type": "execute_result"
    }
   ],
   "source": [
    "#(Ans):-\n",
    "l=\"Pwskills\"\n",
    "l[::-1]"
   ]
  },
  {
   "cell_type": "markdown",
   "metadata": {
    "id": "k5pp_Kyw-fvD"
   },
   "source": [
    "(Q)2)Write a code to count the number of vowels in a string"
   ]
  },
  {
   "cell_type": "code",
   "execution_count": null,
   "metadata": {
    "colab": {
     "base_uri": "https://localhost:8080/"
    },
    "executionInfo": {
     "elapsed": 821,
     "status": "ok",
     "timestamp": 1722048354622,
     "user": {
      "displayName": "Asad Raza",
      "userId": "18380366987480511932"
     },
     "user_tz": -330
    },
    "id": "1kTMdpj7DXAq",
    "outputId": "25a9797c-6371-4f5c-ee13-b051e4edd85d"
   },
   "outputs": [
    {
     "name": "stdout",
     "output_type": "stream",
     "text": [
      "count: 7\n"
     ]
    }
   ],
   "source": [
    "#(Ans):-\n",
    "l=\"Lion are roaring\"\n",
    "count=0\n",
    "for character in l:\n",
    "    if character in \"aAeEiIoOuU\":\n",
    "        count+=1\n",
    "print(\"count:\",count)"
   ]
  },
  {
   "cell_type": "markdown",
   "metadata": {
    "id": "DETwcKC4HasA"
   },
   "source": [
    "(Q)3)Write a code to check if a given string is a palindrome or not"
   ]
  },
  {
   "cell_type": "code",
   "execution_count": null,
   "metadata": {
    "colab": {
     "base_uri": "https://localhost:8080/"
    },
    "executionInfo": {
     "elapsed": 813,
     "status": "ok",
     "timestamp": 1722051089834,
     "user": {
      "displayName": "Asad Raza",
      "userId": "18380366987480511932"
     },
     "user_tz": -330
    },
    "id": "qd3Z4rMeFu0J",
    "outputId": "ce31b061-81bf-4825-cdf5-4d8e6c94ac72"
   },
   "outputs": [
    {
     "name": "stdout",
     "output_type": "stream",
     "text": [
      "It is palindrome\n"
     ]
    }
   ],
   "source": [
    "#(Ans):-\n",
    "a=\"madam\"\n",
    "i=a[::-1]\n",
    "if i==a:\n",
    "    print(\"It is palindrome\")\n",
    "else:\n",
    "    print(\"It is not palindrome\")"
   ]
  },
  {
   "cell_type": "markdown",
   "metadata": {
    "id": "tBQk_M_PQzjf"
   },
   "source": [
    "(Q)4)Write a code to check if two given strings are anagrams of each other"
   ]
  },
  {
   "cell_type": "code",
   "execution_count": null,
   "metadata": {
    "colab": {
     "base_uri": "https://localhost:8080/"
    },
    "executionInfo": {
     "elapsed": 633,
     "status": "ok",
     "timestamp": 1722054011396,
     "user": {
      "displayName": "Asad Raza",
      "userId": "18380366987480511932"
     },
     "user_tz": -330
    },
    "id": "VyvTyWdLQ7A9",
    "outputId": "20f5f4d9-44a3-4662-e3c7-c773faef0312"
   },
   "outputs": [
    {
     "name": "stdout",
     "output_type": "stream",
     "text": [
      "It is Anagram of each other\n"
     ]
    }
   ],
   "source": [
    "#(Ans):-\n",
    "a=\"listen\"\n",
    "b=\"silent\"\n",
    "if len(a)!=len(b):\n",
    "    print(\"It is not Anagram of each other\")\n",
    "else:\n",
    "    if sorted(a)==sorted(b):\n",
    "        print(\"It is Anagram of each other\")\n",
    "    else:\n",
    "        print(\"It is not Anagram of each other\")"
   ]
  },
  {
   "cell_type": "markdown",
   "metadata": {
    "id": "wQs9EghwhK0M"
   },
   "source": [
    "(Q)5)Write a code to find all occurrences of a given substring within another string"
   ]
  },
  {
   "cell_type": "code",
   "execution_count": null,
   "metadata": {
    "colab": {
     "base_uri": "https://localhost:8080/"
    },
    "executionInfo": {
     "elapsed": 919,
     "status": "ok",
     "timestamp": 1722058552086,
     "user": {
      "displayName": "Asad Raza",
      "userId": "18380366987480511932"
     },
     "user_tz": -330
    },
    "id": "66UudHIXpyKJ",
    "outputId": "45487cc5-ba11-4726-ed1c-892fca2c1368"
   },
   "outputs": [
    {
     "name": "stdout",
     "output_type": "stream",
     "text": [
      "Occurences is: 2 times\n"
     ]
    }
   ],
   "source": [
    "#(Ans):-\n",
    "my_string=\"Singh is king but not a big king as compared to lion\"\n",
    "my_substring=\"king\"\n",
    "my_count=my_string.count(my_substring)\n",
    "print(\"Occurences is:\",my_count, \"times\")"
   ]
  },
  {
   "cell_type": "markdown",
   "metadata": {
    "id": "G0W3FPpLtWlr"
   },
   "source": [
    "(Q)6)Write a code to perform basic string compression using the counts of repeated characters"
   ]
  },
  {
   "cell_type": "code",
   "execution_count": null,
   "metadata": {
    "id": "nCHGKL_wtgGn"
   },
   "outputs": [],
   "source": [
    "#(Ans):-\n",
    "st=\"Asad is a hero,Geek for Geek\""
   ]
  },
  {
   "cell_type": "markdown",
   "metadata": {
    "id": "mr3ALtC357nf"
   },
   "source": [
    "(Q)7)Write a code to determine if a string has all unique characters"
   ]
  },
  {
   "cell_type": "code",
   "execution_count": null,
   "metadata": {
    "colab": {
     "base_uri": "https://localhost:8080/"
    },
    "executionInfo": {
     "elapsed": 791,
     "status": "ok",
     "timestamp": 1722066569852,
     "user": {
      "displayName": "Asad Raza",
      "userId": "18380366987480511932"
     },
     "user_tz": -330
    },
    "id": "zUEmHYaOF2FY",
    "outputId": "38721126-99c3-4def-f90b-1a687b7bc3b4"
   },
   "outputs": [
    {
     "name": "stdout",
     "output_type": "stream",
     "text": [
      "It is unique character\n"
     ]
    }
   ],
   "source": [
    "#(Ans):-\n",
    "s=\"raceiswon\"\n",
    "unique_chars = set(s)\n",
    "if len(unique_chars) == len(s):\n",
    "    print(\"It is unique character\")\n",
    "else:\n",
    "    print(\"It is not unique character\")"
   ]
  },
  {
   "cell_type": "markdown",
   "metadata": {
    "id": "QQ4kRMrM8vEI"
   },
   "source": [
    "(Q)8)Write a code to convert a given string to uppercase or lowercase"
   ]
  },
  {
   "cell_type": "code",
   "execution_count": null,
   "metadata": {
    "colab": {
     "base_uri": "https://localhost:8080/",
     "height": 35
    },
    "executionInfo": {
     "elapsed": 660,
     "status": "ok",
     "timestamp": 1722096861158,
     "user": {
      "displayName": "Asad Raza",
      "userId": "18380366987480511932"
     },
     "user_tz": -330
    },
    "id": "q8HiBbz18yqx",
    "outputId": "98676a98-d06f-4a6b-9717-49ead5589659"
   },
   "outputs": [
    {
     "data": {
      "application/vnd.google.colaboratory.intrinsic+json": {
       "type": "string"
      },
      "text/plain": [
       "'PWSKILLS'"
      ]
     },
     "execution_count": 5,
     "metadata": {},
     "output_type": "execute_result"
    }
   ],
   "source": [
    "#(Ans):-\n",
    "s=\"pwskills\"\n",
    "s.upper() #It is the function that convert the character from lower to upper."
   ]
  },
  {
   "cell_type": "code",
   "execution_count": null,
   "metadata": {
    "colab": {
     "base_uri": "https://localhost:8080/",
     "height": 35
    },
    "executionInfo": {
     "elapsed": 658,
     "status": "ok",
     "timestamp": 1722096924411,
     "user": {
      "displayName": "Asad Raza",
      "userId": "18380366987480511932"
     },
     "user_tz": -330
    },
    "id": "BM5j_d0F-UoU",
    "outputId": "68aafaf9-4086-436a-c61b-2752d54989f2"
   },
   "outputs": [
    {
     "data": {
      "application/vnd.google.colaboratory.intrinsic+json": {
       "type": "string"
      },
      "text/plain": [
       "'lion is a king'"
      ]
     },
     "execution_count": 6,
     "metadata": {},
     "output_type": "execute_result"
    }
   ],
   "source": [
    "a=\"LION IS A KING\"\n",
    "a.lower() #It is the function that convert the character from upper to lower."
   ]
  },
  {
   "cell_type": "markdown",
   "metadata": {
    "id": "rh9-ryw--iLQ"
   },
   "source": [
    "(Q)9)Write a code to count the number of words in a string"
   ]
  },
  {
   "cell_type": "code",
   "execution_count": null,
   "metadata": {
    "colab": {
     "base_uri": "https://localhost:8080/"
    },
    "executionInfo": {
     "elapsed": 635,
     "status": "ok",
     "timestamp": 1722097491500,
     "user": {
      "displayName": "Asad Raza",
      "userId": "18380366987480511932"
     },
     "user_tz": -330
    },
    "id": "-m7pthLZ-pLP",
    "outputId": "02e0467f-32d3-4b03-98ac-7e49a7f59256"
   },
   "outputs": [
    {
     "data": {
      "text/plain": [
       "6"
      ]
     },
     "execution_count": 14,
     "metadata": {},
     "output_type": "execute_result"
    }
   ],
   "source": [
    "#(Ans):-\n",
    "a=\"jungle\"\n",
    "len(a)"
   ]
  },
  {
   "cell_type": "markdown",
   "metadata": {
    "id": "lzS9NsgPAv_V"
   },
   "source": [
    "(Q)10) Write a code to concatenate two strings without using the + operator"
   ]
  },
  {
   "cell_type": "code",
   "execution_count": null,
   "metadata": {
    "colab": {
     "base_uri": "https://localhost:8080/"
    },
    "executionInfo": {
     "elapsed": 648,
     "status": "ok",
     "timestamp": 1722097876613,
     "user": {
      "displayName": "Asad Raza",
      "userId": "18380366987480511932"
     },
     "user_tz": -330
    },
    "id": "movjf9wiA4bw",
    "outputId": "4dda6e5a-e90b-4601-f53c-fc480dadfdf1"
   },
   "outputs": [
    {
     "name": "stdout",
     "output_type": "stream",
     "text": [
      "Data analytics course of pw\n"
     ]
    }
   ],
   "source": [
    "\n",
    "#(Ans):-\n",
    "a=\"Data analytics \"\n",
    "b=\"course of pw\"\n",
    "print(\"\".join([a,b]))"
   ]
  },
  {
   "cell_type": "markdown",
   "metadata": {
    "id": "Qr5IRVBzCmyY"
   },
   "source": [
    "(Q)11)Write a code to remove all occurrences of a specific element from a list"
   ]
  },
  {
   "cell_type": "code",
   "execution_count": null,
   "metadata": {
    "colab": {
     "base_uri": "https://localhost:8080/"
    },
    "executionInfo": {
     "elapsed": 1318,
     "status": "ok",
     "timestamp": 1722098491612,
     "user": {
      "displayName": "Asad Raza",
      "userId": "18380366987480511932"
     },
     "user_tz": -330
    },
    "id": "tBYS30S3CuWO",
    "outputId": "0cebc4e0-0f41-4508-a1d5-9094afe34670"
   },
   "outputs": [
    {
     "name": "stdout",
     "output_type": "stream",
     "text": [
      "[2, 3, 4, 6, 7]\n"
     ]
    }
   ],
   "source": [
    "#(Ans):-\n",
    "a=[1,2,3,4,1,6,7,1]\n",
    "num=1\n",
    "while num in a:\n",
    "    a.remove(num)\n",
    "print(a)"
   ]
  },
  {
   "cell_type": "markdown",
   "metadata": {
    "id": "LPaIDMIJE1fd"
   },
   "source": [
    "(Q)12)Implement a code to find the second largest number in a given list of integers"
   ]
  },
  {
   "cell_type": "code",
   "execution_count": null,
   "metadata": {
    "colab": {
     "base_uri": "https://localhost:8080/"
    },
    "executionInfo": {
     "elapsed": 520,
     "status": "ok",
     "timestamp": 1722138800400,
     "user": {
      "displayName": "Asad Raza",
      "userId": "18380366987480511932"
     },
     "user_tz": -330
    },
    "id": "MF4v6zEYE8Z4",
    "outputId": "e17137fe-bbbf-43bb-83c6-1e69a4c9ef8a"
   },
   "outputs": [
    {
     "name": "stdout",
     "output_type": "stream",
     "text": [
      "Second largest no is: 70\n"
     ]
    }
   ],
   "source": [
    "#(Ans):-\n",
    "lis=[20,30,70,100]\n",
    "lis[-2]\n",
    "print(\"Second largest no is:\",lis[-2])"
   ]
  },
  {
   "cell_type": "markdown",
   "metadata": {
    "id": "y_yT2c2ueL0o"
   },
   "source": [
    "(Q)13)Create a code to count the occurrences of each element in a list and return a dictionary with elements as\n",
    "keys and their counts as values"
   ]
  },
  {
   "cell_type": "code",
   "execution_count": null,
   "metadata": {
    "colab": {
     "base_uri": "https://localhost:8080/"
    },
    "executionInfo": {
     "elapsed": 487,
     "status": "ok",
     "timestamp": 1722140280853,
     "user": {
      "displayName": "Asad Raza",
      "userId": "18380366987480511932"
     },
     "user_tz": -330
    },
    "id": "u4yjcuCzejvN",
    "outputId": "807ba740-1fb2-45d7-e788-7eb8b638dde6"
   },
   "outputs": [
    {
     "name": "stdout",
     "output_type": "stream",
     "text": [
      "{'Ajay': 2, 'Raj': 2, 'Sanjana': 2, 'khan': 1}\n"
     ]
    }
   ],
   "source": [
    "#(Ans):-\n",
    "l=[\"Ajay\",\"Raj\",\"Sanjana\",\"Ajay\",\"khan\",\"Raj\",\"Sanjana\"]\n",
    "s={}\n",
    "for i in l:\n",
    "    if i in s:\n",
    "        s[i] += 1\n",
    "    else:\n",
    "        s[i] = 1\n",
    "print(s)"
   ]
  },
  {
   "cell_type": "markdown",
   "metadata": {
    "id": "Sx8cxAHJkLU5"
   },
   "source": [
    "(Q)14)Write a code to reverse a list in-place without using any built-in reverse functions"
   ]
  },
  {
   "cell_type": "code",
   "execution_count": null,
   "metadata": {
    "colab": {
     "base_uri": "https://localhost:8080/"
    },
    "executionInfo": {
     "elapsed": 515,
     "status": "ok",
     "timestamp": 1722140844702,
     "user": {
      "displayName": "Asad Raza",
      "userId": "18380366987480511932"
     },
     "user_tz": -330
    },
    "id": "j_oNeA1ekyy4",
    "outputId": "9306b73f-ba72-4f70-eb3c-d5b9e525e40f"
   },
   "outputs": [
    {
     "data": {
      "text/plain": [
       "[1, 5, 8, 9, 10, 11]"
      ]
     },
     "execution_count": 15,
     "metadata": {},
     "output_type": "execute_result"
    }
   ],
   "source": [
    "#(Ans):-\n",
    "rev=[1,5,8,9,10,11]\n",
    "rev"
   ]
  },
  {
   "cell_type": "code",
   "execution_count": null,
   "metadata": {
    "colab": {
     "base_uri": "https://localhost:8080/"
    },
    "executionInfo": {
     "elapsed": 461,
     "status": "ok",
     "timestamp": 1722140856036,
     "user": {
      "displayName": "Asad Raza",
      "userId": "18380366987480511932"
     },
     "user_tz": -330
    },
    "id": "00PBD839l-rI",
    "outputId": "6530b268-bfbb-41b6-df44-205e4f4ac46d"
   },
   "outputs": [
    {
     "data": {
      "text/plain": [
       "[11, 10, 9, 8, 5, 1]"
      ]
     },
     "execution_count": 16,
     "metadata": {},
     "output_type": "execute_result"
    }
   ],
   "source": [
    "rev[::-1]"
   ]
  },
  {
   "cell_type": "markdown",
   "metadata": {
    "id": "kM7i31PjmCQL"
   },
   "source": [
    "(Q)15)implement a code to find and remove duplicates from a list while preserving the original order of\n",
    "elements"
   ]
  },
  {
   "cell_type": "code",
   "execution_count": null,
   "metadata": {
    "colab": {
     "base_uri": "https://localhost:8080/"
    },
    "executionInfo": {
     "elapsed": 486,
     "status": "ok",
     "timestamp": 1722142156798,
     "user": {
      "displayName": "Asad Raza",
      "userId": "18380366987480511932"
     },
     "user_tz": -330
    },
    "id": "bgQ_cJ93mTXz",
    "outputId": "001bc137-71c9-41b4-f9d7-8c3cb79906af"
   },
   "outputs": [
    {
     "name": "stdout",
     "output_type": "stream",
     "text": [
      "[1, 2, 3, 4, 5, 6, 7, 8, 9]\n"
     ]
    }
   ],
   "source": [
    "#(Ans):-\n",
    "l=[1,2,3,2,4,3,5,6,1,7,8,6,8,9,7,8]\n",
    "clean_list=[]\n",
    "for i in l:\n",
    "    if i not in clean_list:\n",
    "        clean_list.append(i)\n",
    "print(clean_list)"
   ]
  },
  {
   "cell_type": "markdown",
   "metadata": {
    "id": "sDfUuwALrFqo"
   },
   "source": [
    "(Q)16)Create a code to check if a given list is sorted (either in ascending or descending order) or not"
   ]
  },
  {
   "cell_type": "code",
   "execution_count": null,
   "metadata": {
    "colab": {
     "base_uri": "https://localhost:8080/"
    },
    "executionInfo": {
     "elapsed": 462,
     "status": "ok",
     "timestamp": 1722144136931,
     "user": {
      "displayName": "Asad Raza",
      "userId": "18380366987480511932"
     },
     "user_tz": -330
    },
    "id": "JqLSjm3arSd0",
    "outputId": "b1d9a0d6-5b93-4bf7-dcd2-fb47ceec368a"
   },
   "outputs": [
    {
     "name": "stdout",
     "output_type": "stream",
     "text": [
      "Given list are  sorted in Ascending or descending order\n"
     ]
    }
   ],
   "source": [
    "#(Ans):-\n",
    "l=[\"pwskills\",\"Jeewala\",\"commercewala\",\"Bankwala\"]\n",
    "a=l\n",
    "a.sort()\n",
    "if a==l:\n",
    "    print(\"Given list are  sorted in Ascending or descending order\")\n",
    "else:\n",
    "    print(\"Given list are  not sorted in Ascending or descending order\")"
   ]
  },
  {
   "cell_type": "markdown",
   "metadata": {
    "id": "IFRPmr5gy5fd"
   },
   "source": [
    "(Q)17)Write a code to merge two sorted lists into a single sorted list"
   ]
  },
  {
   "cell_type": "code",
   "execution_count": null,
   "metadata": {
    "colab": {
     "base_uri": "https://localhost:8080/"
    },
    "executionInfo": {
     "elapsed": 496,
     "status": "ok",
     "timestamp": 1722148875808,
     "user": {
      "displayName": "Asad Raza",
      "userId": "18380366987480511932"
     },
     "user_tz": -330
    },
    "id": "vNf2_D3DwYaO",
    "outputId": "924a0717-7bfc-41d0-b522-75bf862a7dca"
   },
   "outputs": [
    {
     "name": "stdout",
     "output_type": "stream",
     "text": [
      "['Ajay', 'Jungle', 'Khan', 'Leo', 'Namrata', 'Raju']\n"
     ]
    }
   ],
   "source": [
    "#(Ans):-\n",
    "l=[\"Ajay\",\"Raju\",\"Leo\"]\n",
    "a=[\"Khan\",\"Namrata\",\"Jungle\"]\n",
    "l.extend(a)\n",
    "print(sorted(l))"
   ]
  },
  {
   "cell_type": "markdown",
   "metadata": {
    "id": "Y5u1ZNSMDWwP"
   },
   "source": [
    "OR"
   ]
  },
  {
   "cell_type": "code",
   "execution_count": null,
   "metadata": {
    "colab": {
     "base_uri": "https://localhost:8080/"
    },
    "executionInfo": {
     "elapsed": 481,
     "status": "ok",
     "timestamp": 1722149730246,
     "user": {
      "displayName": "Asad Raza",
      "userId": "18380366987480511932"
     },
     "user_tz": -330
    },
    "id": "kYOcgdKiDhT3",
    "outputId": "f1f263e9-1d91-4d3f-f77b-dca71f4f6bf1"
   },
   "outputs": [
    {
     "name": "stdout",
     "output_type": "stream",
     "text": [
      "['A', 'B', 'C', 'D', 'E', 'R']\n"
     ]
    }
   ],
   "source": [
    "#(Ans):-\n",
    "list_1=[\"A\",\"E\",\"D\",\"C\"]\n",
    "list_2=[\"R\",\"B\"]\n",
    "sorted_list=[]\n",
    "for i in list_1:\n",
    "    if i not in sorted_list:\n",
    "        sorted_list.append(i)\n",
    "for j in list_2:\n",
    "    if j not in sorted_list:\n",
    "        sorted_list.append(j)\n",
    "print(sorted(sorted_list))"
   ]
  },
  {
   "cell_type": "markdown",
   "metadata": {
    "id": "OlVM3Ur_H_8G"
   },
   "source": [
    "(Q)18)Implement a code to find the intersection of two given lists"
   ]
  },
  {
   "cell_type": "code",
   "execution_count": null,
   "metadata": {
    "colab": {
     "base_uri": "https://localhost:8080/"
    },
    "executionInfo": {
     "elapsed": 471,
     "status": "ok",
     "timestamp": 1722151510720,
     "user": {
      "displayName": "Asad Raza",
      "userId": "18380366987480511932"
     },
     "user_tz": -330
    },
    "id": "ZZ4ObEbtIJOZ",
    "outputId": "c7bd848e-deb7-4a64-8c26-96955385fb6f"
   },
   "outputs": [
    {
     "name": "stdout",
     "output_type": "stream",
     "text": [
      "['Coding', 'Travelling']\n"
     ]
    }
   ],
   "source": [
    "#(Ans):-\n",
    "list_1=[\"Hiking\",\"Reading\",\"Coding\",\"Travelling\"]\n",
    "list_2=[\"Coding\",\"Fighting\",\"Travelling\",\"Photography\"]\n",
    "intersection_list=[]\n",
    "for i in list_1:\n",
    "    if i in list_2:\n",
    "        intersection_list.append(i)\n",
    "print(intersection_list)"
   ]
  },
  {
   "cell_type": "markdown",
   "metadata": {
    "id": "gPR7QOP2O4Lh"
   },
   "source": [
    "(Q)19)Create a code to find the union of two lists without duplicates"
   ]
  },
  {
   "cell_type": "code",
   "execution_count": null,
   "metadata": {
    "colab": {
     "base_uri": "https://localhost:8080/"
    },
    "executionInfo": {
     "elapsed": 627,
     "status": "ok",
     "timestamp": 1722153268289,
     "user": {
      "displayName": "Asad Raza",
      "userId": "18380366987480511932"
     },
     "user_tz": -330
    },
    "id": "zMsm1IxlTzkq",
    "outputId": "c7c250e7-9bec-4265-f032-2a56c505d719"
   },
   "outputs": [
    {
     "name": "stdout",
     "output_type": "stream",
     "text": [
      "['Hiking', 'Reading', 'Fighting', 'Photograph']\n"
     ]
    }
   ],
   "source": [
    "\n",
    "#(Ans):-\n",
    "list_1=[\"Hiking\",\"Reading\",\"Coding\",\"Travelling\"]\n",
    "list_2=[\"Coding\",\"Travelling\",\"Fighting\",\"Photograph\"]\n",
    "union_list=[]\n",
    "for i in list_1:\n",
    "    if i not in list_2:\n",
    "        union_list.append(i)\n",
    "for j in list_2:\n",
    "    if j not in list_1:\n",
    "        union_list.append(j)\n",
    "print(union_list)"
   ]
  },
  {
   "cell_type": "markdown",
   "metadata": {
    "id": "jETsO3PjVLpL"
   },
   "source": [
    "(Q)20)Write a code to shuffle a given list randomly without using any built-in shuffle functions"
   ]
  },
  {
   "cell_type": "code",
   "execution_count": null,
   "metadata": {
    "colab": {
     "base_uri": "https://localhost:8080/"
    },
    "executionInfo": {
     "elapsed": 627,
     "status": "ok",
     "timestamp": 1722154668687,
     "user": {
      "displayName": "Asad Raza",
      "userId": "18380366987480511932"
     },
     "user_tz": -330
    },
    "id": "-XQRJcxBVYHN",
    "outputId": "5f099a6a-2255-46ec-ba7f-e1dbebed69fc"
   },
   "outputs": [
    {
     "name": "stdout",
     "output_type": "stream",
     "text": [
      "[80, 60, 10, 2, 30]\n"
     ]
    }
   ],
   "source": [
    "#(Ans):-\n",
    "import random\n",
    "l=[10,30,2,60,80]\n",
    "random.shuffle(l)\n",
    "print(l)"
   ]
  },
  {
   "cell_type": "markdown",
   "metadata": {
    "id": "dsKj4yWMa5PU"
   },
   "source": [
    "(Q)21)Write a code that takes two tuples as input and returns a new tuple containing elements that are\n",
    "common to both input tuples"
   ]
  },
  {
   "cell_type": "code",
   "execution_count": null,
   "metadata": {
    "colab": {
     "base_uri": "https://localhost:8080/"
    },
    "executionInfo": {
     "elapsed": 641,
     "status": "ok",
     "timestamp": 1722157347309,
     "user": {
      "displayName": "Asad Raza",
      "userId": "18380366987480511932"
     },
     "user_tz": -330
    },
    "id": "ddbHLLecbENE",
    "outputId": "c2e44648-87ab-44e3-b7e8-dc1067c0f648"
   },
   "outputs": [
    {
     "name": "stdout",
     "output_type": "stream",
     "text": [
      "(1, 4, 5)\n"
     ]
    }
   ],
   "source": [
    "#(Ans):-\n",
    "def common_elements(tuple_1,tuple_2):\n",
    "  common_tuple=()\n",
    "  for i in tuple_1:\n",
    "    if i in tuple_2:\n",
    "      common_tuple+=(i,)\n",
    "  return common_tuple\n",
    "tuple_1=(1,2,3,4,5)\n",
    "tuple_2=(4,5,6,7,8,1)\n",
    "print(common_elements(tuple_1,tuple_2))\n",
    "\n",
    "\n",
    "\n"
   ]
  },
  {
   "cell_type": "markdown",
   "metadata": {
    "id": "Y4cZNbAwlR1n"
   },
   "source": [
    "(Q)22)Create a code that prompts the user to enter two sets of integers seprated by commas.Then,print the intersection of these two sets."
   ]
  },
  {
   "cell_type": "code",
   "execution_count": null,
   "metadata": {
    "colab": {
     "base_uri": "https://localhost:8080/"
    },
    "executionInfo": {
     "elapsed": 38538,
     "status": "ok",
     "timestamp": 1722226626442,
     "user": {
      "displayName": "Asad Raza",
      "userId": "18380366987480511932"
     },
     "user_tz": -330
    },
    "id": "OfJdbnQymJqw",
    "outputId": "ab82d16b-1d45-4c61-dafd-a78fe50860b1"
   },
   "outputs": [
    {
     "name": "stdout",
     "output_type": "stream",
     "text": [
      "Enter first set :{1,2,3,4}\n",
      "Enter second set :{3,4}\n",
      "{'4}'}\n"
     ]
    }
   ],
   "source": [
    "#(Ans):-\n",
    "def intersection_set(set_1,set_2):\n",
    "    set_1=input(\"Enter first set :\")\n",
    "    set_2=input(\"Enter second set :\")\n",
    "    set_1=set(set_1.split(','))\n",
    "    set_2=set(set_2.split(','))\n",
    "    return set_1.intersection(set_2)\n",
    "print(intersection_set(set_1,set_2))\n",
    "\n"
   ]
  },
  {
   "cell_type": "markdown",
   "metadata": {
    "id": "-qYmUd3QgUKu"
   },
   "source": [
    "(Q)23)Write a code to concatenate two tuple.The function should take two tuple as input and return a new tuple  containig elements from both tules."
   ]
  },
  {
   "cell_type": "code",
   "execution_count": null,
   "metadata": {
    "colab": {
     "base_uri": "https://localhost:8080/"
    },
    "executionInfo": {
     "elapsed": 503,
     "status": "ok",
     "timestamp": 1722223842438,
     "user": {
      "displayName": "Asad Raza",
      "userId": "18380366987480511932"
     },
     "user_tz": -330
    },
    "id": "l8jOn15-hJi_",
    "outputId": "94f9c31e-6a68-4dae-b55f-6d43d08eccd1"
   },
   "outputs": [
    {
     "name": "stdout",
     "output_type": "stream",
     "text": [
      "(1, 2, 3, 4, 5, 6)\n"
     ]
    }
   ],
   "source": [
    "#(Ans):-\n",
    "def concatenate_tuple(tuple_1,tuple_2):\n",
    "  return tuple_1+tuple_2\n",
    "tuple_1=(1,2,3)\n",
    "tuple_2=(4,5,6)\n",
    "print(concatenate_tuple(tuple_1,tuple_2))"
   ]
  },
  {
   "cell_type": "markdown",
   "metadata": {
    "id": "-DtF8eOajV5v"
   },
   "source": [
    "(Q)24)Devlop a code that prompts the user to input two sets of string.Then,print the element that are prsent in the first set but not in the second set"
   ]
  },
  {
   "cell_type": "code",
   "execution_count": null,
   "metadata": {
    "colab": {
     "base_uri": "https://localhost:8080/"
    },
    "executionInfo": {
     "elapsed": 46940,
     "status": "ok",
     "timestamp": 1722228030718,
     "user": {
      "displayName": "Asad Raza",
      "userId": "18380366987480511932"
     },
     "user_tz": -330
    },
    "id": "nZvdtTy4m_x8",
    "outputId": "2bbddcfc-d094-4c13-9fd4-2d14d3fcdd73"
   },
   "outputs": [
    {
     "name": "stdout",
     "output_type": "stream",
     "text": [
      "Enter first set :{\"A\",\"B\",\"C\",\"M\"}\n",
      "Enter second set :{\"V\",\"B\",\"C\",\"L\"}\n"
     ]
    },
    {
     "data": {
      "text/plain": [
       "{'\"M\"}', '{\"A\"'}"
      ]
     },
     "execution_count": 1,
     "metadata": {},
     "output_type": "execute_result"
    }
   ],
   "source": [
    "#(Ans):-\n",
    "set_1=input(\"Enter first set :\")\n",
    "set_2=input(\"Enter second set :\")\n",
    "set_1=set(set_1.split(','))\n",
    "set_2=set(set_2.split(','))\n",
    "set_1 - set_2"
   ]
  },
  {
   "cell_type": "markdown",
   "metadata": {
    "id": "lv7uAzu9ylfA"
   },
   "source": [
    "(Q)25)Create a code that takes a tuple and two integer as input .The function should return a new tuple containing elements from the original tuple within the specified range of indices."
   ]
  },
  {
   "cell_type": "code",
   "execution_count": null,
   "metadata": {
    "colab": {
     "base_uri": "https://localhost:8080/"
    },
    "executionInfo": {
     "elapsed": 572,
     "status": "ok",
     "timestamp": 1722229060345,
     "user": {
      "displayName": "Asad Raza",
      "userId": "18380366987480511932"
     },
     "user_tz": -330
    },
    "id": "kKAJ_LuFwQpm",
    "outputId": "3220640b-1212-4c69-cf09-4677b4ab8480"
   },
   "outputs": [
    {
     "name": "stdout",
     "output_type": "stream",
     "text": [
      "(3, 4, 5, 6)\n"
     ]
    }
   ],
   "source": [
    "#(Ans):-\n",
    "def new_tuple(tuple_1,start_index,end_index):\n",
    "  return tuple_1[start_index:end_index]\n",
    "tuple1=(1,2,3,4,5,6,7,8,9)\n",
    "start=2\n",
    "end=6\n",
    "result=new_tuple(tuple1,start,end)\n",
    "print(result)\n"
   ]
  },
  {
   "cell_type": "markdown",
   "metadata": {
    "id": "re54h2jF3FfG"
   },
   "source": [
    "(Q)Write a code that prompts the user to input two sets of characters.Then,print the union of these two sets."
   ]
  },
  {
   "cell_type": "code",
   "execution_count": null,
   "metadata": {
    "colab": {
     "base_uri": "https://localhost:8080/"
    },
    "executionInfo": {
     "elapsed": 81901,
     "status": "ok",
     "timestamp": 1722230941592,
     "user": {
      "displayName": "Asad Raza",
      "userId": "18380366987480511932"
     },
     "user_tz": -330
    },
    "id": "ERKT_lKD3wtj",
    "outputId": "23aa9c54-1559-4871-bfff-f9e46912180b"
   },
   "outputs": [
    {
     "name": "stdout",
     "output_type": "stream",
     "text": [
      "Enter first set of characters seprated by commas:{\"Hiking\",\"Reading\",\"Coading\"}\n",
      "Enter second set of characters seprated by commas:{\"Travelling\",\"Lighting\",\"coading\"}\n",
      "The union of two sets is: {'\"coading\"}', '\"Reading\"', '{\"Hiking\"', '\"Lighting\"', '\"Coading\"}', '{\"Travelling\"'}\n"
     ]
    }
   ],
   "source": [
    "#(Ans):-\n",
    "set1=input(\"Enter first set of characters seprated by commas:\")\n",
    "set2=input(\"Enter second set of characters seprated by commas:\")\n",
    "set1=set(set1.split(','))\n",
    "set2=set(set2.split(','))\n",
    "union_set=set1.union(set2)\n",
    "print(\"The union of two sets is:\",union_set)\n"
   ]
  },
  {
   "cell_type": "markdown",
   "metadata": {
    "id": "xoFKto3D-j_S"
   },
   "source": [
    "(Q)27)Deveop a code that takes a tuples of integer as input.The function should return the maximum and minimum values from the tuple using the tuple unpacking."
   ]
  },
  {
   "cell_type": "code",
   "execution_count": null,
   "metadata": {
    "colab": {
     "base_uri": "https://localhost:8080/"
    },
    "executionInfo": {
     "elapsed": 534,
     "status": "ok",
     "timestamp": 1722231926113,
     "user": {
      "displayName": "Asad Raza",
      "userId": "18380366987480511932"
     },
     "user_tz": -330
    },
    "id": "8lZQNuEY_Trh",
    "outputId": "652c106f-5d85-469b-8845-861e9a2797ad"
   },
   "outputs": [
    {
     "name": "stdout",
     "output_type": "stream",
     "text": [
      "Maximum value is:90\n",
      "Minimum value is:20\n"
     ]
    }
   ],
   "source": [
    "#(Ans):-\n",
    "def max_min(tuple1):\n",
    "  maximum=max(tuple1)\n",
    "  minimum=min(tuple1)\n",
    "  return maximum,minimum\n",
    "tuple1=(20,40,50,70,90)\n",
    "max_value,min_value=max_min(tuple1)\n",
    "print(f\"Maximum value is:{max_value}\")\n",
    "print(f\"Minimum value is:{min_value}\")\n"
   ]
  },
  {
   "cell_type": "markdown",
   "metadata": {
    "id": "XAG4DGmuEM-N"
   },
   "source": [
    "(Q)28)Create a code that defines two sets of integers. Then, print the union, intersection, and difference of these two sets"
   ]
  },
  {
   "cell_type": "code",
   "execution_count": null,
   "metadata": {
    "colab": {
     "base_uri": "https://localhost:8080/"
    },
    "executionInfo": {
     "elapsed": 516,
     "status": "ok",
     "timestamp": 1722235765772,
     "user": {
      "displayName": "Asad Raza",
      "userId": "18380366987480511932"
     },
     "user_tz": -330
    },
    "id": "nwtnLRnGPX5c",
    "outputId": "f37fee7c-4201-4a24-84f0-54b4af745257"
   },
   "outputs": [
    {
     "data": {
      "text/plain": [
       "{10, 20, 40, 50, 60, 70, 90}"
      ]
     },
     "execution_count": 21,
     "metadata": {},
     "output_type": "execute_result"
    }
   ],
   "source": [
    "#(Ans):-\n",
    "set_1={10,20,40,50}\n",
    "set_2={20,60,10,70,90}\n",
    "#union of two sets#\n",
    "set_1|set_2"
   ]
  },
  {
   "cell_type": "code",
   "execution_count": null,
   "metadata": {
    "colab": {
     "base_uri": "https://localhost:8080/"
    },
    "executionInfo": {
     "elapsed": 6,
     "status": "ok",
     "timestamp": 1722235824144,
     "user": {
      "displayName": "Asad Raza",
      "userId": "18380366987480511932"
     },
     "user_tz": -330
    },
    "id": "5TOn6IVaQGe2",
    "outputId": "4c01db49-0235-4dc4-b93f-c687c7883f89"
   },
   "outputs": [
    {
     "data": {
      "text/plain": [
       "{10, 20}"
      ]
     },
     "execution_count": 22,
     "metadata": {},
     "output_type": "execute_result"
    }
   ],
   "source": [
    "#intersection of two sets#\n",
    "set_1&set_2"
   ]
  },
  {
   "cell_type": "code",
   "execution_count": null,
   "metadata": {
    "colab": {
     "base_uri": "https://localhost:8080/"
    },
    "executionInfo": {
     "elapsed": 5,
     "status": "ok",
     "timestamp": 1722235877469,
     "user": {
      "displayName": "Asad Raza",
      "userId": "18380366987480511932"
     },
     "user_tz": -330
    },
    "id": "ZgKHuJXiQXVQ",
    "outputId": "41a1b8a4-f0e7-4e5e-b6a4-159d229618b5"
   },
   "outputs": [
    {
     "data": {
      "text/plain": [
       "{40, 50}"
      ]
     },
     "execution_count": 23,
     "metadata": {},
     "output_type": "execute_result"
    }
   ],
   "source": [
    "#difference of two sets#\n",
    "set_1-set_2"
   ]
  },
  {
   "cell_type": "markdown",
   "metadata": {
    "id": "iNjbStxUQkF5"
   },
   "source": [
    "(Q)29)Write a code that takes a tuple and an element as input. The function should return the count of\n",
    "occurrences of the given element in the **tuple**"
   ]
  },
  {
   "cell_type": "code",
   "execution_count": null,
   "metadata": {
    "colab": {
     "base_uri": "https://localhost:8080/"
    },
    "executionInfo": {
     "elapsed": 509,
     "status": "ok",
     "timestamp": 1722236467744,
     "user": {
      "displayName": "Asad Raza",
      "userId": "18380366987480511932"
     },
     "user_tz": -330
    },
    "id": "rK7dClMdQ8g8",
    "outputId": "f330d055-1e49-4b1f-fd46-ede83790a6f8"
   },
   "outputs": [
    {
     "name": "stdout",
     "output_type": "stream",
     "text": [
      "4\n"
     ]
    }
   ],
   "source": [
    "#(Ans):-\n",
    "def count_occurences_element(tuple1,element):\n",
    "  count=0\n",
    "  for i in tuple1:\n",
    "    if i==element:\n",
    "      count+=1\n",
    "  return count\n",
    "tuple1=(1,2,3,4,3,2,1,3,4,5,1,1)\n",
    "print(count_occurences_element(tuple1,1))\n"
   ]
  },
  {
   "cell_type": "markdown",
   "metadata": {
    "id": "3G3rd8pqSw2V"
   },
   "source": [
    "or"
   ]
  },
  {
   "cell_type": "code",
   "execution_count": null,
   "metadata": {
    "colab": {
     "base_uri": "https://localhost:8080/"
    },
    "executionInfo": {
     "elapsed": 639,
     "status": "ok",
     "timestamp": 1722236686625,
     "user": {
      "displayName": "Asad Raza",
      "userId": "18380366987480511932"
     },
     "user_tz": -330
    },
    "id": "Ikzcbr_cTAuy",
    "outputId": "2ca4454d-064f-4822-bfdd-1eb7f0a4683b"
   },
   "outputs": [
    {
     "name": "stdout",
     "output_type": "stream",
     "text": [
      "4\n"
     ]
    }
   ],
   "source": [
    "def count_occurences_element(tuple1,element):\n",
    "  return tuple1.count(element)\n",
    "tuple1=(1,2,3,2,4,5,6,1,1,1,7)\n",
    "element=1\n",
    "print(count_occurences_element(tuple1,element))\n"
   ]
  },
  {
   "cell_type": "markdown",
   "metadata": {
    "id": "VBWUjBT5Tpu8"
   },
   "source": [
    "(Q)30)Develop a code that prompts the user to input two sets of strings. Then, print the symmetric difference of\n",
    "these two sets"
   ]
  },
  {
   "cell_type": "code",
   "execution_count": null,
   "metadata": {
    "colab": {
     "base_uri": "https://localhost:8080/"
    },
    "executionInfo": {
     "elapsed": 61186,
     "status": "ok",
     "timestamp": 1722237019706,
     "user": {
      "displayName": "Asad Raza",
      "userId": "18380366987480511932"
     },
     "user_tz": -330
    },
    "id": "fj_N3tGTT3sq",
    "outputId": "1beca878-038c-4a13-b862-7489a8e9550c"
   },
   "outputs": [
    {
     "name": "stdout",
     "output_type": "stream",
     "text": [
      "Enter first set of strings:{\"HIKING\",\"READING\",\"COADING\"}\n",
      "Enter second set of string:{\"COADING\",\"PHOTOGRAPHY\",\"TRAVELLING\"}\n"
     ]
    },
    {
     "data": {
      "text/plain": [
       "{'\"COADING\"}',\n",
       " '\"PHOTOGRAPHY\"',\n",
       " '\"READING\"',\n",
       " '\"TRAVELLING\"}',\n",
       " '{\"COADING\"',\n",
       " '{\"HIKING\"'}"
      ]
     },
     "execution_count": 34,
     "metadata": {},
     "output_type": "execute_result"
    }
   ],
   "source": [
    "#(Ans):-\n",
    "set_1=input(\"Enter first set of strings:\")\n",
    "set_2=input(\"Enter second set of string:\")\n",
    "set_1=set(set_1.split(','))\n",
    "set_2=set(set_2.split(','))\n",
    "set_1^set_2"
   ]
  },
  {
   "cell_type": "markdown",
   "metadata": {
    "id": "-kghBsX7YW9b"
   },
   "source": [
    "OR"
   ]
  },
  {
   "cell_type": "code",
   "execution_count": null,
   "metadata": {
    "colab": {
     "base_uri": "https://localhost:8080/"
    },
    "executionInfo": {
     "elapsed": 115815,
     "status": "ok",
     "timestamp": 1722254233509,
     "user": {
      "displayName": "Asad Raza",
      "userId": "18380366987480511932"
     },
     "user_tz": -330
    },
    "id": "18XWCzykVnTK",
    "outputId": "d5b0d16c-f66b-4407-9207-079f6eb95063"
   },
   "outputs": [
    {
     "name": "stdout",
     "output_type": "stream",
     "text": [
      "Enter first set of strings:{\"A\",\"B\",\"C\"}\n",
      "Enter second set of string:{\"S\",\"C\",\"J\"}\n",
      "{'\"B\"', '\"J\"}', '\"C\"}', '{\"S\"', '{\"A\"', '\"C\"'}\n"
     ]
    }
   ],
   "source": [
    "set_1=input(\"Enter first set of strings:\")\n",
    "set_2=input(\"Enter second set of string:\")\n",
    "set_1=set(set_1.split(','))\n",
    "set_2=set(set_2.split(','))\n",
    "for i in set_1:\n",
    "  if i in set_2:\n",
    "    set_1.remove(i)\n",
    "    set_2.remove(i)\n",
    "print(set_1^set_2)"
   ]
  },
  {
   "cell_type": "markdown",
   "metadata": {
    "id": "H_t2NLhuYWRm"
   },
   "source": [
    "(Q)31)Write a code that takes a list of words as input and return a dictionary where the key are unique words and the values are the frequencies of those words in the input list."
   ]
  },
  {
   "cell_type": "code",
   "execution_count": null,
   "metadata": {
    "colab": {
     "base_uri": "https://localhost:8080/"
    },
    "executionInfo": {
     "elapsed": 709,
     "status": "ok",
     "timestamp": 1722255189029,
     "user": {
      "displayName": "Asad Raza",
      "userId": "18380366987480511932"
     },
     "user_tz": -330
    },
    "id": "OjmJnRlXXdTg",
    "outputId": "5589e53f-1964-4bef-8e06-6fdb62d2ba74"
   },
   "outputs": [
    {
     "name": "stdout",
     "output_type": "stream",
     "text": [
      "{'ajay': 2, 'raj': 1, 'sanju': 2, 'khan': 2, 'sonu': 1}\n"
     ]
    }
   ],
   "source": [
    "#(Ans):-\n",
    "def return_dictionary(list1):\n",
    "  dictionary={}\n",
    "  for i in list1:\n",
    "    if i in dictionary:\n",
    "      dictionary[i]+=1\n",
    "    else:\n",
    "      dictionary[i]=1\n",
    "  return dictionary\n",
    "print(return_dictionary([\"ajay\",\"raj\",\"sanju\",\"ajay\",\"khan\",\"sonu\",\"sanju\",\"khan\"]))\n"
   ]
  },
  {
   "cell_type": "markdown",
   "metadata": {
    "id": "xNxdo91XaQ8g"
   },
   "source": [
    "(Q)32)Write a code that takes two dictionaries as input and merges them into a single dictionary.if there are common keys,the values should be added together."
   ]
  },
  {
   "cell_type": "code",
   "execution_count": null,
   "metadata": {
    "colab": {
     "base_uri": "https://localhost:8080/"
    },
    "executionInfo": {
     "elapsed": 14,
     "status": "ok",
     "timestamp": 1722259021658,
     "user": {
      "displayName": "Asad Raza",
      "userId": "18380366987480511932"
     },
     "user_tz": -330
    },
    "id": "wB251s4-aQnL",
    "outputId": "66c54cb4-96e9-4d25-f911-2022d45a7533"
   },
   "outputs": [
    {
     "name": "stdout",
     "output_type": "stream",
     "text": [
      "{'a': 1, 'b': 5, 'c': 4}\n"
     ]
    }
   ],
   "source": [
    "#(Ans):-\n",
    "def merge_dictionary(dict1,dict2):\n",
    "  for key,value in dict2.items():\n",
    "    if key in dict1:\n",
    "     dict1[key]+=value\n",
    "    else:\n",
    "      dict1[key]=value\n",
    "  return dict1\n",
    "dict1={\"a\":1,\"b\":2}\n",
    "dict2={\"b\":3,\"c\":4}\n",
    "print(merge_dictionary(dict1,dict2))\n",
    "\n"
   ]
  },
  {
   "cell_type": "markdown",
   "metadata": {
    "id": "gh5QMyOXuVb-"
   },
   "source": [
    "(Q)33)Write a code to access a value in a nested dictionary.The function should take the dictionary and a list of keys as input,and return the corresponding value.if any of keys do not exist in the dictionary,the function should return none."
   ]
  },
  {
   "cell_type": "code",
   "execution_count": null,
   "metadata": {
    "colab": {
     "base_uri": "https://localhost:8080/"
    },
    "executionInfo": {
     "elapsed": 657,
     "status": "ok",
     "timestamp": 1722262442997,
     "user": {
      "displayName": "Asad Raza",
      "userId": "18380366987480511932"
     },
     "user_tz": -330
    },
    "id": "SLBSLGhnuVto",
    "outputId": "9ff2ff6f-6971-4efc-d774-1694868a8613"
   },
   "outputs": [
    {
     "name": "stdout",
     "output_type": "stream",
     "text": [
      "2\n"
     ]
    }
   ],
   "source": [
    "#(Ans):-\n",
    "def access_value(dictionary,keys):\n",
    "  corresponding_value=dictionary\n",
    "  for key in keys:\n",
    "    if key in corresponding_value:\n",
    "      corresponding_value=corresponding_value[key]\n",
    "    else:\n",
    "      return None\n",
    "  return corresponding_value\n",
    "dictionary={\"a\":{\"b\":1},\"c\":{\"d\":2}}\n",
    "keys=[\"c\",\"d\"]\n",
    "print(access_value(dictionary,keys))\n",
    "\n",
    "\n"
   ]
  },
  {
   "cell_type": "markdown",
   "metadata": {
    "id": "eUjsKXJz13o_"
   },
   "source": [
    "(Q)34)Write a code that takes a dictionary as input and returns a sorted version of it based on the values.You can choose whether to sort in ascending or descending oder."
   ]
  },
  {
   "cell_type": "code",
   "execution_count": null,
   "metadata": {
    "colab": {
     "base_uri": "https://localhost:8080/"
    },
    "executionInfo": {
     "elapsed": 926,
     "status": "ok",
     "timestamp": 1722263227471,
     "user": {
      "displayName": "Asad Raza",
      "userId": "18380366987480511932"
     },
     "user_tz": -330
    },
    "id": "Ht2XEHnq14Qw",
    "outputId": "89bfae02-195c-4c9f-dba0-922a86f5d63f"
   },
   "outputs": [
    {
     "name": "stdout",
     "output_type": "stream",
     "text": [
      "{'a': 1, 'b': 2, 'c': 3}\n"
     ]
    }
   ],
   "source": [
    "#(Ans):-\n",
    "def sorted_dictionary(dictionary):\n",
    "  sorted_dictionary={}\n",
    "  sorted_keys=sorted(dictionary,key=dictionary.get)\n",
    "  for key in sorted_keys:\n",
    "    sorted_dictionary[key]=dictionary[key]\n",
    "  return sorted_dictionary\n",
    "dictionary={\"a\":1,\"c\":3,\"b\":2}\n",
    "print(sorted_dictionary(dictionary))\n",
    "\n",
    "\n"
   ]
  },
  {
   "cell_type": "markdown",
   "metadata": {
    "id": "ZeORGrZAl83m"
   },
   "source": [
    "(Q)35)Write a code that inverts a dictionary,swapping keys and values.Ensure that the inverted dictionary correctly handles cases where multiple keys have the same value by sorting the keys as a list in the inverted dictionary."
   ]
  },
  {
   "cell_type": "code",
   "execution_count": null,
   "metadata": {
    "colab": {
     "base_uri": "https://localhost:8080/"
    },
    "executionInfo": {
     "elapsed": 516,
     "status": "ok",
     "timestamp": 1722310869313,
     "user": {
      "displayName": "Asad Raza",
      "userId": "18380366987480511932"
     },
     "user_tz": -330
    },
    "id": "oVs2TaRw6Jda",
    "outputId": "2b442c57-3718-419e-dc75-6f8766b9d757"
   },
   "outputs": [
    {
     "name": "stdout",
     "output_type": "stream",
     "text": [
      "{1: ['a', 'm'], 2: ['f']}\n"
     ]
    }
   ],
   "source": [
    "#(Ans):-\n",
    "def inverted_dictionary(dictionary):\n",
    "  inverted_d={}\n",
    "  for key,value in dictionary.items():\n",
    "    if value not in inverted_d:\n",
    "      inverted_d[value]=[key]\n",
    "    else:\n",
    "      inverted_d[value].append(key)\n",
    "      inverted_d[value].sort()\n",
    "  return inverted_d\n",
    "dictionary={\"a\":4,\"f\":5,\"m\":1,\"f\":2,\"a\":1}\n",
    "inverted_d=inverted_dictionary(dictionary)\n",
    "print(inverted_d)\n"
   ]
  }
 ],
 "metadata": {
  "colab": {
   "provenance": [
    {
     "file_id": "1Edv1J-MbY4K4PZvsDt5Rw4SyT8D_DXFk",
     "timestamp": 1722311254604
    }
   ]
  },
  "kernelspec": {
   "display_name": "Python 3 (ipykernel)",
   "language": "python",
   "name": "python3"
  },
  "language_info": {
   "codemirror_mode": {
    "name": "ipython",
    "version": 3
   },
   "file_extension": ".py",
   "mimetype": "text/x-python",
   "name": "python",
   "nbconvert_exporter": "python",
   "pygments_lexer": "ipython3",
   "version": "3.10.8"
  }
 },
 "nbformat": 4,
 "nbformat_minor": 4
}
